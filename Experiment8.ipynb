{
  "nbformat": 4,
  "nbformat_minor": 0,
  "metadata": {
    "colab": {
      "provenance": [],
      "authorship_tag": "ABX9TyMkJfOrKUMdd754o+ZoRggX",
      "include_colab_link": true
    },
    "kernelspec": {
      "name": "python3",
      "display_name": "Python 3"
    },
    "language_info": {
      "name": "python"
    }
  },
  "cells": [
    {
      "cell_type": "markdown",
      "metadata": {
        "id": "view-in-github",
        "colab_type": "text"
      },
      "source": [
        "<a href=\"https://colab.research.google.com/github/Navaneethadapa/Compiler_Design_lab/blob/main/Experiment8.ipynb\" target=\"_parent\"><img src=\"https://colab.research.google.com/assets/colab-badge.svg\" alt=\"Open In Colab\"/></a>"
      ]
    },
    {
      "cell_type": "code",
      "execution_count": 5,
      "metadata": {
        "colab": {
          "base_uri": "https://localhost:8080/"
        },
        "id": "jBlns3fHWV-q",
        "outputId": "c39cecb7-2b3a-48d9-9465-b5f21bf8b904"
      },
      "outputs": [
        {
          "output_type": "stream",
          "name": "stdout",
          "text": [
            "Stack          |Input Buffer   |Parsing Action\n",
            "--------------------------------------------------\n",
            "$2             |324232$        |Shift\n",
            "$23            |24232$         |Shift\n",
            "$232           |4232$          |Shift\n",
            "$2324          |232$           |Shift\n",
            "$232E          |232$           |Reduce S->4\n",
            "$232E2         |32$            |Shift\n",
            "$23E           |32$            |Reduce S->2E2\n",
            "$23E3          |2$             |Shift\n",
            "$2E            |2$             |Reduce S->3E3\n",
            "$2E2           |$              |Shift\n",
            "$E             |$              |Reduce S->2E2\n",
            "$E             |$              |Accepted\n"
          ]
        }
      ],
      "source": [
        "# example 1\n",
        "gram = {\n",
        "\t\"E\":[\"2E2\",\"3E3\",\"4\"]\n",
        "}\n",
        "starting_terminal = \"E\"\n",
        "inp = \"2324232$\"\n",
        "\"\"\"\n",
        "# example 2\n",
        "gram = {\n",
        "\t\"S\":[\"S+S\",\"S*S\",\"i\"]\n",
        "}\n",
        "starting_terminal = \"S\"\n",
        "inp = \"i+i*i\"\n",
        "\"\"\"\n",
        "stack = \"$\"\n",
        "print(f'{\"Stack\": <15}'+\"|\"+f'{\"Input Buffer\": <15}'+\"|\"+f'Parsing Action')\n",
        "print(f'{\"-\":-<50}')\n",
        "\n",
        "while True:\n",
        "\taction = True\n",
        "\ti = 0\n",
        "\twhile i<len(gram[starting_terminal]):\n",
        "\t\tif gram[starting_terminal][i] in stack:\n",
        "\t\t\tstack = stack.replace(gram[starting_terminal][i],starting_terminal)\n",
        "\t\t\tprint(f'{stack: <15}'+\"|\"+f'{inp: <15}'+\"|\"+f'Reduce S->{gram[starting_terminal][i]}')\n",
        "\t\t\ti=-1\n",
        "\t\t\taction = False\n",
        "\t\ti+=1\n",
        "\tif len(inp)>1:\n",
        "\t\tstack+=inp[0]\n",
        "\t\tinp=inp[1:]\n",
        "\t\tprint(f'{stack: <15}'+\"|\"+f'{inp: <15}'+\"|\"+f'Shift')\n",
        "\t\taction = False\n",
        "\n",
        "\tif inp == \"$\" and stack == (\"$\"+starting_terminal):\n",
        "\t\tprint(f'{stack: <15}'+\"|\"+f'{inp: <15}'+\"|\"+f'Accepted')\n",
        "\t\tbreak\n",
        "\n",
        "\tif action:\n",
        "\t\tprint(f'{stack: <15}'+\"|\"+f'{inp: <15}'+\"|\"+f'Rejected')\n",
        "\t\tbreak"
      ]
    }
  ]
}