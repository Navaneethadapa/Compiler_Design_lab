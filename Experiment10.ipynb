{
  "nbformat": 4,
  "nbformat_minor": 0,
  "metadata": {
    "colab": {
      "provenance": [],
      "authorship_tag": "ABX9TyNX/DkX9faYIEM72+uwntrr",
      "include_colab_link": true
    },
    "kernelspec": {
      "name": "python3",
      "display_name": "Python 3"
    },
    "language_info": {
      "name": "python"
    }
  },
  "cells": [
    {
      "cell_type": "markdown",
      "metadata": {
        "id": "view-in-github",
        "colab_type": "text"
      },
      "source": [
        "<a href=\"https://colab.research.google.com/github/Navaneethadapa/Compiler_Design_lab/blob/main/Experiment10.ipynb\" target=\"_parent\"><img src=\"https://colab.research.google.com/assets/colab-badge.svg\" alt=\"Open In Colab\"/></a>"
      ]
    },
    {
      "cell_type": "code",
      "execution_count": 4,
      "metadata": {
        "colab": {
          "base_uri": "https://localhost:8080/"
        },
        "id": "jBlns3fHWV-q",
        "outputId": "92557643-6d15-470f-d7ed-509ac769e678"
      },
      "outputs": [
        {
          "output_type": "stream",
          "name": "stdout",
          "text": [
            "INPUT THE EXPRESSION: a+b*c-b\n",
            "PREFIX: -+a*bcb\n",
            "POSTFIX: abc*+b-\n",
            "### THREE ADDRESS CODE GENERATION ###\n",
            "t1 := b * c\n",
            "t2 := a + t1\n",
            "t3 := t2 - b\n"
          ]
        }
      ],
      "source": [
        "OPERATORS = set(['+', '-', '*', '/', '(', ')'])\n",
        "PRI = {'+':1, '-':1, '*':2, '/':2}\n",
        "\n",
        "### INFIX ===> POSTFIX ###\n",
        "def infix_to_postfix(formula):\n",
        "    stack = [] # only pop when the coming op has priority \n",
        "    output = ''\n",
        "    for ch in formula:\n",
        "        if ch not in OPERATORS:\n",
        "            output += ch\n",
        "        elif ch == '(':\n",
        "            stack.append('(')\n",
        "        elif ch == ')':\n",
        "            while stack and stack[-1] != '(':\n",
        "                output += stack.pop()\n",
        "            stack.pop() # pop '('\n",
        "        else:\n",
        "            while stack and stack[-1] != '(' and PRI[ch] <= PRI[stack[-1]]:\n",
        "                output += stack.pop()\n",
        "            stack.append(ch)\n",
        "    # leftover\n",
        "    while stack: \n",
        "    \toutput += stack.pop()\n",
        "    print(f'POSTFIX: {output}')\n",
        "    return output\n",
        "\n",
        "### INFIX ===> PREFIX ###\n",
        "def infix_to_prefix(formula):\n",
        "    op_stack = []\n",
        "    exp_stack = []\n",
        "    for ch in formula:\n",
        "        if not ch in OPERATORS:\n",
        "            exp_stack.append(ch)\n",
        "        elif ch == '(':\n",
        "            op_stack.append(ch)\n",
        "        elif ch == ')':\n",
        "            while op_stack[-1] != '(':\n",
        "                op = op_stack.pop()\n",
        "                a = exp_stack.pop()\n",
        "                b = exp_stack.pop()\n",
        "                exp_stack.append( op+b+a )\n",
        "            op_stack.pop() # pop '('\n",
        "        else:\n",
        "            while op_stack and op_stack[-1] != '(' and PRI[ch] <= PRI[op_stack[-1]]:\n",
        "                op = op_stack.pop()\n",
        "                a = exp_stack.pop()\n",
        "                b = exp_stack.pop()\n",
        "                exp_stack.append( op+b+a )\n",
        "            op_stack.append(ch)\n",
        "    \n",
        "    # leftover\n",
        "    while op_stack:\n",
        "        op = op_stack.pop()\n",
        "        a = exp_stack.pop()\n",
        "        b = exp_stack.pop()\n",
        "        exp_stack.append( op+b+a )\n",
        "    print(f'PREFIX: {exp_stack[-1]}')\n",
        "    return exp_stack[-1]\n",
        "\n",
        "### THREE ADDRESS CODE GENERATION ###\n",
        "def generate3AC(pos):\n",
        "\tprint(\"### THREE ADDRESS CODE GENERATION ###\")\n",
        "\texp_stack = []\n",
        "\tt = 1\n",
        "\t\n",
        "\tfor i in pos:\n",
        "\t\tif i not in OPERATORS:\n",
        "\t\t\texp_stack.append(i)\n",
        "\t\telse:\n",
        "\t\t\tprint(f't{t} := {exp_stack[-2]} {i} {exp_stack[-1]}')\n",
        "\t\t\texp_stack=exp_stack[:-2]\n",
        "\t\t\texp_stack.append(f't{t}')\n",
        "\t\t\tt+=1\n",
        "\n",
        "expres = input(\"INPUT THE EXPRESSION: \")\n",
        "pre = infix_to_prefix(expres)\n",
        "pos = infix_to_postfix(expres)\n",
        "generate3AC(pos)"
      ]
    }
  ]
}